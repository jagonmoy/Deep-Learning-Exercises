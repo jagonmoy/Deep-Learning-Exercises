{
 "cells": [
  {
   "cell_type": "code",
   "execution_count": 36,
   "id": "64ff906f",
   "metadata": {},
   "outputs": [],
   "source": [
    "import tensorflow as tf\n",
    "from tensorflow import keras\n",
    "import matplotlib.pyplot as plt\n",
    "import numpy as np\n"
   ]
  },
  {
   "cell_type": "code",
   "execution_count": 37,
   "id": "da8bc6db",
   "metadata": {},
   "outputs": [],
   "source": [
    "(x_train,y_train) , (x_test,y_test) = keras.datasets.mnist.load_data() # loading dataset "
   ]
  },
  {
   "cell_type": "code",
   "execution_count": 38,
   "id": "f6d82602",
   "metadata": {},
   "outputs": [
    {
     "data": {
      "text/plain": [
       "60000"
      ]
     },
     "execution_count": 38,
     "metadata": {},
     "output_type": "execute_result"
    }
   ],
   "source": [
    "len(x_train) # size of train data"
   ]
  },
  {
   "cell_type": "code",
   "execution_count": 39,
   "id": "bad3c110",
   "metadata": {},
   "outputs": [
    {
     "data": {
      "text/plain": [
       "10000"
      ]
     },
     "execution_count": 39,
     "metadata": {},
     "output_type": "execute_result"
    }
   ],
   "source": [
    "len(x_test)  # size of test data"
   ]
  },
  {
   "cell_type": "code",
   "execution_count": 40,
   "id": "fd7c7f88",
   "metadata": {},
   "outputs": [
    {
     "data": {
      "text/plain": [
       "(28, 28)"
      ]
     },
     "execution_count": 40,
     "metadata": {},
     "output_type": "execute_result"
    }
   ],
   "source": [
    "x_train[0].shape # shape of a single training example"
   ]
  },
  {
   "cell_type": "code",
   "execution_count": 41,
   "id": "5a203637",
   "metadata": {},
   "outputs": [
    {
     "data": {
      "text/plain": [
       "<matplotlib.image.AxesImage at 0x7fc451097190>"
      ]
     },
     "execution_count": 41,
     "metadata": {},
     "output_type": "execute_result"
    },
    {
     "data": {
      "image/png": "[encoded data removed]",
      "text/plain": [
       "<Figure size 288x288 with 1 Axes>"
      ]
     },
     "metadata": {
      "needs_background": "light"
     },
     "output_type": "display_data"
    }
   ],
   "source": [
    "plt.matshow(x_train[0]) # visualization of 1st training example"
   ]
  },
  {
   "cell_type": "code",
   "execution_count": 42,
   "id": "9dfdb935",
   "metadata": {},
   "outputs": [
    {
     "data": {
      "text/plain": [
       "5"
      ]
     },
     "execution_count": 42,
     "metadata": {},
     "output_type": "execute_result"
    }
   ],
   "source": [
    "y_train[0] # what is the output of 1st traning example "
   ]
  },
  {
   "cell_type": "code",
   "execution_count": 43,
   "id": "308f00ec",
   "metadata": {},
   "outputs": [
    {
     "data": {
      "text/plain": [
       "array([5, 0, 4, 1, 9, 2], dtype=uint8)"
      ]
     },
     "execution_count": 43,
     "metadata": {},
     "output_type": "execute_result"
    }
   ],
   "source": [
    "y_train[:6] # first 6 output of traning example"
   ]
  },
  {
   "cell_type": "code",
   "execution_count": 44,
   "id": "d8171d27",
   "metadata": {},
   "outputs": [
    {
     "data": {
      "text/plain": [
       "(60000, 28, 28)"
      ]
     },
     "execution_count": 44,
     "metadata": {},
     "output_type": "execute_result"
    }
   ],
   "source": [
    "x_train.shape # shape of whole training dataset "
   ]
  },
  {
   "cell_type": "code",
   "execution_count": 45,
   "id": "6630ebf5",
   "metadata": {},
   "outputs": [],
   "source": [
    "# scaling data for better accuracy \n",
    "x_train = x_train / 255 \n",
    "x_test  = x_test / 255"
   ]
  },
  {
   "cell_type": "code",
   "execution_count": 46,
   "id": "d6a7cbbe",
   "metadata": {},
   "outputs": [],
   "source": [
    "x_train_flattened = x_train.reshape(len(x_train),28*28) # flattening the x_train to make it usable in DL model\n",
    "x_test_flattened = x_test.reshape(len(x_test),28*28)   # flattening the x_test to make it usable in DL model"
   ]
  },
  {
   "cell_type": "code",
   "execution_count": 47,
   "id": "63e377a2",
   "metadata": {},
   "outputs": [
    {
     "data": {
      "text/plain": [
       "(10000, 784)"
      ]
     },
     "execution_count": 47,
     "metadata": {},
     "output_type": "execute_result"
    }
   ],
   "source": [
    "x_test_flattened.shape # showing the modified shape of x_test"
   ]
  },
  {
   "cell_type": "code",
   "execution_count": 48,
   "id": "b00372d6",
   "metadata": {},
   "outputs": [
    {
     "data": {
      "text/plain": [
       "(60000, 784)"
      ]
     },
     "execution_count": 48,
     "metadata": {},
     "output_type": "execute_result"
    }
   ],
   "source": [
    "x_train_flattened.shape # showing the modified shape of x_train"
   ]
  },
  {
   "cell_type": "code",
   "execution_count": 49,
   "id": "c95cacb7",
   "metadata": {
    "scrolled": false
   },
   "outputs": [
    {
     "name": "stdout",
     "output_type": "stream",
     "text": [
      "Epoch 1/5\n",
      "1875/1875 [==============================] - 4s 2ms/step - loss: 0.4721 - accuracy: 0.8765\n",
      "Epoch 2/5\n",
      "1875/1875 [==============================] - 3s 2ms/step - loss: 0.3041 - accuracy: 0.9158\n",
      "Epoch 3/5\n",
      "1875/1875 [==============================] - 3s 2ms/step - loss: 0.2835 - accuracy: 0.9205\n",
      "Epoch 4/5\n",
      "1875/1875 [==============================] - 3s 2ms/step - loss: 0.2731 - accuracy: 0.9241\n",
      "Epoch 5/5\n",
      "1875/1875 [==============================] - 3s 2ms/step - loss: 0.2667 - accuracy: 0.9254\n"
     ]
    },
    {
     "data": {
      "text/plain": [
       "<keras.callbacks.History at 0x7fc451161a60>"
      ]
     },
     "execution_count": 49,
     "metadata": {},
     "output_type": "execute_result"
    }
   ],
   "source": [
    "# creating a Deep Learning Model with Keras with only input layer and no hidden layer\n",
    "\n",
    "\n",
    "# Create a `Sequential` model and add a Dense layer as the first layer.\n",
    "\n",
    "model = keras.models.Sequential()\n",
    "model.add(keras.Input(shape = (784,)))\n",
    "model.add(keras.layers.Dense(10,activation = \"sigmoid\"))\n",
    "\n",
    "# Now the model will take as input arrays of shape (None, 784)\n",
    "# and output arrays of shape (None,10).\n",
    "\n",
    "#after creating a model we need to compile it with necessary arguments\n",
    "\n",
    "model.compile(\n",
    "    optimizer = 'adam',\n",
    "    loss = 'sparse_categorical_crossentropy',\n",
    "    metrics = ['accuracy']\n",
    ")\n",
    "\n",
    "model.fit(x_train_flattened,y_train,epochs=5)\n"
   ]
  },
  {
   "cell_type": "code",
   "execution_count": 52,
   "id": "4d1c0354",
   "metadata": {},
   "outputs": [
    {
     "name": "stdout",
     "output_type": "stream",
     "text": [
      "Epoch 1/5\n",
      "1875/1875 [==============================] - 5s 3ms/step - loss: 0.2770 - accuracy: 0.9222\n",
      "Epoch 2/5\n",
      "1875/1875 [==============================] - 4s 2ms/step - loss: 0.1262 - accuracy: 0.9621\n",
      "Epoch 3/5\n",
      "1875/1875 [==============================] - 4s 2ms/step - loss: 0.0864 - accuracy: 0.9742\n",
      "Epoch 4/5\n",
      "1875/1875 [==============================] - 5s 2ms/step - loss: 0.0660 - accuracy: 0.9802\n",
      "Epoch 5/5\n",
      "1875/1875 [==============================] - 5s 2ms/step - loss: 0.0523 - accuracy: 0.9839\n"
     ]
    },
    {
     "data": {
      "text/plain": [
       "<keras.callbacks.History at 0x7fc4487c0a90>"
      ]
     },
     "execution_count": 52,
     "metadata": {},
     "output_type": "execute_result"
    }
   ],
   "source": [
    "# let use add a hidden layer so that we can get e better accuracy \n",
    "\n",
    "\n",
    "# Create a `Sequential` model and add a Dense layer as the first layer and this time we add a hidden layer which has (None,10) shape.\n",
    "\n",
    "model = keras.models.Sequential()\n",
    "# model.add(keras.Input(shape = (784,))) if we can flattened our train dataset earlier\n",
    "model.add(keras.Input(shape = (28,28)))\n",
    "model.add(keras.layers.Flatten()) # if we didn't flattern our train dataset earlier then using this method we can flatten it\n",
    "model.add(keras.layers.Dense(100,activation = \"relu\"))\n",
    "model.add(keras.layers.Dense(10,activation = \"sigmoid\"))\n",
    "\n",
    "\n",
    "# Now the model will take as input arrays of shape (None, 784)\n",
    "# and output arrays of shape (None,10).\n",
    "\n",
    "#after creating a model we need to compile it with necessary arguments\n",
    "\n",
    "model.compile(\n",
    "    optimizer = 'adam',\n",
    "    loss = 'sparse_categorical_crossentropy',\n",
    "    metrics = ['accuracy']\n",
    ")\n",
    "\n",
    "# model.fit(x_train_flattened,y_train,epochs=5) # if we have flattend earlier \n",
    "model.fit(x_train,y_train,epochs=5)\n"
   ]
  },
  {
   "cell_type": "code",
   "execution_count": 53,
   "id": "a2140a1b",
   "metadata": {},
   "outputs": [
    {
     "name": "stdout",
     "output_type": "stream",
     "text": [
      "313/313 [==============================] - 1s 4ms/step - loss: 0.0748 - accuracy: 0.9778\n"
     ]
    },
    {
     "data": {
      "text/plain": [
       "[0.07481581717729568, 0.9778000116348267]"
      ]
     },
     "execution_count": 53,
     "metadata": {},
     "output_type": "execute_result"
    }
   ],
   "source": [
    "model.evaluate(x_test,y_test) # if you are using the Flatten() function provided by keras\n",
    "\n",
    "# if you are flattening the train dataset earlier so your model is not using the flatten() method\n",
    "# model.evaluate(x_test_flattened,y_test) \n"
   ]
  },
  {
   "cell_type": "code",
   "execution_count": 54,
   "id": "9b4f513c",
   "metadata": {},
   "outputs": [
    {
     "name": "stdout",
     "output_type": "stream",
     "text": [
      "313/313 [==============================] - 1s 2ms/step\n"
     ]
    },
    {
     "data": {
      "text/plain": [
       "array([3.4183193e-02, 3.7986778e-03, 3.4818786e-01, 8.8238591e-01,\n",
       "       8.4784034e-07, 1.5125720e-02, 3.6207351e-10, 9.9997956e-01,\n",
       "       5.2689321e-02, 2.2721575e-01], dtype=float32)"
      ]
     },
     "execution_count": 54,
     "metadata": {},
     "output_type": "execute_result"
    }
   ],
   "source": [
    "y_prediction = model.predict(x_test) # predicting the whole test data\n",
    "y_prediction[0] # showing the 0th prediction"
   ]
  },
  {
   "cell_type": "code",
   "execution_count": 55,
   "id": "e199a93f",
   "metadata": {},
   "outputs": [
    {
     "data": {
      "text/plain": [
       "7"
      ]
     },
     "execution_count": 55,
     "metadata": {},
     "output_type": "execute_result"
    }
   ],
   "source": [
    "np.argmax(y_prediction[0]) # max possibility among 10 digits"
   ]
  },
  {
   "cell_type": "code",
   "execution_count": 56,
   "id": "d5cec1d1",
   "metadata": {},
   "outputs": [
    {
     "data": {
      "image/png": "[encoded data removed]",
      "text/plain": [
       "<Figure size 288x288 with 1 Axes>"
      ]
     },
     "metadata": {
      "needs_background": "light"
     },
     "output_type": "display_data"
    }
   ],
   "source": [
    "plt.matshow(x_test[0]); # showing the 0th test data"
   ]
  },
  {
   "cell_type": "code",
   "execution_count": 57,
   "id": "3f5bc962",
   "metadata": {},
   "outputs": [
    {
     "data": {
      "text/plain": [
       "[7, 2, 1, 0, 4]"
      ]
     },
     "execution_count": 57,
     "metadata": {},
     "output_type": "execute_result"
    }
   ],
   "source": [
    "# for every prediction we need to know the highest similarity score because prediction is providing us with a array of size 10\n",
    "y_prediction_labels = [np.argmax(i) for i in y_prediction]\n",
    "y_prediction_labels[:5] # displaying first 5 prediction with highest similarity digit"
   ]
  },
  {
   "cell_type": "code",
   "execution_count": 58,
   "id": "39e9fb75",
   "metadata": {},
   "outputs": [
    {
     "data": {
      "text/plain": [
       "<tf.Tensor: shape=(10, 10), dtype=int32, numpy=\n",
       "array([[ 968,    0,    0,    1,    0,    0,    3,    1,    3,    4],\n",
       "       [   0, 1125,    4,    0,    0,    0,    2,    1,    3,    0],\n",
       "       [   3,    1, 1014,    0,    2,    0,    2,    6,    4,    0],\n",
       "       [   1,    0,   10,  976,    1,    2,    0,    7,    7,    6],\n",
       "       [   2,    0,    3,    1,  957,    0,    3,    3,    2,   11],\n",
       "       [   4,    1,    1,    7,    2,  859,    7,    2,    5,    4],\n",
       "       [   5,    3,    4,    0,    2,    4,  938,    0,    2,    0],\n",
       "       [   2,    3,    6,    0,    0,    0,    0, 1014,    1,    2],\n",
       "       [   8,    0,    3,    5,    6,    2,    2,    3,  943,    2],\n",
       "       [   1,    3,    0,    3,    9,    1,    1,    6,    1,  984]],\n",
       "      dtype=int32)>"
      ]
     },
     "execution_count": 58,
     "metadata": {},
     "output_type": "execute_result"
    }
   ],
   "source": [
    "# confusion matrix\n",
    "\n",
    "cm = tf.math.confusion_matrix(labels = y_test, predictions = y_prediction_labels )\n",
    "cm"
   ]
  },
  {
   "cell_type": "code",
   "execution_count": 65,
   "id": "0ea23a1c",
   "metadata": {},
   "outputs": [
    {
     "data": {
      "text/plain": [
       "Text(69.0, 0.5, 'Truth')"
      ]
     },
     "execution_count": 65,
     "metadata": {},
     "output_type": "execute_result"
    },
    {
     "data": {
      "image/png": "[encoded data removed]",
      "text/plain": [
       "<Figure size 720x504 with 2 Axes>"
      ]
     },
     "metadata": {
      "needs_background": "light"
     },
     "output_type": "display_data"
    }
   ],
   "source": [
    "# visualizing the confusion matrix in a appealing way for this we need to import seaborn\n",
    "\n",
    "import seaborn as sn\n",
    "plt.figure(figsize = (10,7))\n",
    "sn.heatmap(cm,annot = True , fmt = 'd')\n",
    "plt.xlabel('Predicted')\n",
    "plt.ylabel('Truth')\n",
    "\n"
   ]
  },
  {
   "cell_type": "code",
   "execution_count": null,
   "id": "52c570d7",
   "metadata": {},
   "outputs": [],
   "source": []
  }
 ],
 "metadata": {
  "kernelspec": {
   "display_name": "Python 3 (ipykernel)",
   "language": "python",
   "name": "python3"
  },
  "language_info": {
   "codemirror_mode": {
    "name": "ipython",
    "version": 3
   },
   "file_extension": ".py",
   "mimetype": "text/x-python",
   "name": "python",
   "nbconvert_exporter": "python",
   "pygments_lexer": "ipython3",
   "version": "3.9.7"
  },
  "vscode": {
   "interpreter": {
    "hash": "aee8b7b246df8f9039afb4144a1f6fd8d2ca17a180786b69acc140d282b71a49"
   }
  }
 },
 "nbformat": 4,
 "nbformat_minor": 5
}
