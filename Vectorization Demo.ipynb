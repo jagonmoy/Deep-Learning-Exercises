{
 "cells": [
  {
   "cell_type": "code",
   "execution_count": 5,
   "id": "44b23f7b",
   "metadata": {},
   "outputs": [
    {
     "name": "stdout",
     "output_type": "stream",
     "text": [
      "vectorized way : 0.8919239044189453 ms\n",
      "vectorized result : 24941.387695542602\n"
     ]
    }
   ],
   "source": [
    "import numpy as np \n",
    "import time \n",
    "\n",
    "a = np.random.rand(100000)\n",
    "b = np.random.rand(100000)\n",
    "\n",
    "start = time.time()\n",
    "\n",
    "vector = np.dot(a,b)\n",
    "\n",
    "end = time.time() \n",
    "\n",
    "print(\"vectorized way : \" + str(1000*(end-start)) + \" ms\")\n",
    "print(\"vectorized result : \" + str(vector));"
   ]
  },
  {
   "cell_type": "code",
   "execution_count": 6,
   "id": "d925e26e",
   "metadata": {},
   "outputs": [
    {
     "name": "stdout",
     "output_type": "stream",
     "text": [
      "vectorized way : 50.112009048461914 ms\n",
      "vectorized result : 24941.387695542435\n"
     ]
    }
   ],
   "source": [
    "start = time.time()\n",
    "non_vector = 0\n",
    "for i in range(100000):\n",
    "    non_vector += (a[i]*b[i])\n",
    "end = time.time()\n",
    "print(\"vectorized way : \" + str(1000*(end-start)) + \" ms\")\n",
    "print(\"vectorized result : \" + str(non_vector));"
   ]
  }
 ],
 "metadata": {
  "kernelspec": {
   "display_name": "Python 3 (ipykernel)",
   "language": "python",
   "name": "python3"
  },
  "language_info": {
   "codemirror_mode": {
    "name": "ipython",
    "version": 3
   },
   "file_extension": ".py",
   "mimetype": "text/x-python",
   "name": "python",
   "nbconvert_exporter": "python",
   "pygments_lexer": "ipython3",
   "version": "3.9.7"
  }
 },
 "nbformat": 4,
 "nbformat_minor": 5
}
